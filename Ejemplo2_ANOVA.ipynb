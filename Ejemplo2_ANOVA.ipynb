{
  "nbformat": 4,
  "nbformat_minor": 0,
  "metadata": {
    "colab": {
      "provenance": [],
      "collapsed_sections": []
    },
    "kernelspec": {
      "name": "python3",
      "display_name": "Python 3"
    },
    "language_info": {
      "name": "python"
    }
  },
  "cells": [
    {
      "cell_type": "code",
      "execution_count": 3,
      "metadata": {
        "id": "JTpcPMD40vNV"
      },
      "outputs": [],
      "source": [
        "import pandas as pd\n",
        "import numpy as np\n",
        "import matplotlib.pyplot as plt\n",
        "import seaborn as sns\n",
        "\n",
        "sns.set_style(\"darkgrid\")\n",
        "sns.set_palette(\"husl\")\n",
        "\n"
      ]
    },
    {
      "cell_type": "code",
      "source": [
        "df_customers = pd.read_csv('http://www.ishelp.info/data/bikebuyers.csv')\n",
        "df_customers.to_json('bicicletas.json', orient='records')\n",
        "from google.colab import files\n",
        "files.download(\"bicicletas.json\")\n"
      ],
      "metadata": {
        "id": "P7HqYBvQ1G1v",
        "colab": {
          "base_uri": "https://localhost:8080/",
          "height": 17
        },
        "outputId": "0857f058-1d77-4b87-8aa7-2a64f50baffc"
      },
      "execution_count": 4,
      "outputs": [
        {
          "output_type": "display_data",
          "data": {
            "text/plain": [
              "<IPython.core.display.Javascript object>"
            ],
            "application/javascript": [
              "\n",
              "    async function download(id, filename, size) {\n",
              "      if (!google.colab.kernel.accessAllowed) {\n",
              "        return;\n",
              "      }\n",
              "      const div = document.createElement('div');\n",
              "      const label = document.createElement('label');\n",
              "      label.textContent = `Downloading \"${filename}\": `;\n",
              "      div.appendChild(label);\n",
              "      const progress = document.createElement('progress');\n",
              "      progress.max = size;\n",
              "      div.appendChild(progress);\n",
              "      document.body.appendChild(div);\n",
              "\n",
              "      const buffers = [];\n",
              "      let downloaded = 0;\n",
              "\n",
              "      const channel = await google.colab.kernel.comms.open(id);\n",
              "      // Send a message to notify the kernel that we're ready.\n",
              "      channel.send({})\n",
              "\n",
              "      for await (const message of channel.messages) {\n",
              "        // Send a message to notify the kernel that we're ready.\n",
              "        channel.send({})\n",
              "        if (message.buffers) {\n",
              "          for (const buffer of message.buffers) {\n",
              "            buffers.push(buffer);\n",
              "            downloaded += buffer.byteLength;\n",
              "            progress.value = downloaded;\n",
              "          }\n",
              "        }\n",
              "      }\n",
              "      const blob = new Blob(buffers, {type: 'application/binary'});\n",
              "      const a = document.createElement('a');\n",
              "      a.href = window.URL.createObjectURL(blob);\n",
              "      a.download = filename;\n",
              "      div.appendChild(a);\n",
              "      a.click();\n",
              "      div.remove();\n",
              "    }\n",
              "  "
            ]
          },
          "metadata": {}
        },
        {
          "output_type": "display_data",
          "data": {
            "text/plain": [
              "<IPython.core.display.Javascript object>"
            ],
            "application/javascript": [
              "download(\"download_00b88a1f-2a5f-479e-a779-1ea1dde17680\", \"bicicletas.json\", 387226)"
            ]
          },
          "metadata": {}
        }
      ]
    },
    {
      "cell_type": "code",
      "source": [
        "df_customers.to_json()"
      ],
      "metadata": {
        "id": "Gmq2zMxcBbJX"
      },
      "execution_count": null,
      "outputs": []
    },
    {
      "cell_type": "code",
      "source": [
        "df_customers.head(3)"
      ],
      "metadata": {
        "colab": {
          "base_uri": "https://localhost:8080/",
          "height": 277
        },
        "id": "JAo_h8Sn1X-L",
        "outputId": "bda3f650-7e45-4f02-df7b-a5fdc48527c7"
      },
      "execution_count": null,
      "outputs": [
        {
          "output_type": "execute_result",
          "data": {
            "text/plain": [
              "      ID Marital Status Gender  MaritalStatusNumeric  GenderNumeric  Income  \\\n",
              "0  19147        Married   Male                     1              0   40000   \n",
              "1  22296        Married   Male                     1              0   70000   \n",
              "2  25983        Married   Male                     1              0   70000   \n",
              "\n",
              "   Children  EducationNumeric  CommuteDistanceNumeric  Cars  Age  \\\n",
              "0         0                 4                       1     1   42   \n",
              "1         0                 4                       1     1   38   \n",
              "2         0                 4                       1     1   43   \n",
              "\n",
              "   HomeOwnerNumeric  PurchaseBikeNumeric  Education    Occupation Home Owner  \\\n",
              "0                 0                    0  Bachelors  Professional         No   \n",
              "1                 0                    0  Bachelors  Professional         No   \n",
              "2                 0                    0  Bachelors  Professional         No   \n",
              "\n",
              "  Commute Distance         Region Purchased Bike  \n",
              "0        0-1 Miles  North America             No  \n",
              "1        0-1 Miles  North America             No  \n",
              "2        0-1 Miles  North America             No  "
            ],
            "text/html": [
              "\n",
              "  <div id=\"df-26b2fc31-a10f-4af6-a8ec-048451fcbf56\">\n",
              "    <div class=\"colab-df-container\">\n",
              "      <div>\n",
              "<style scoped>\n",
              "    .dataframe tbody tr th:only-of-type {\n",
              "        vertical-align: middle;\n",
              "    }\n",
              "\n",
              "    .dataframe tbody tr th {\n",
              "        vertical-align: top;\n",
              "    }\n",
              "\n",
              "    .dataframe thead th {\n",
              "        text-align: right;\n",
              "    }\n",
              "</style>\n",
              "<table border=\"1\" class=\"dataframe\">\n",
              "  <thead>\n",
              "    <tr style=\"text-align: right;\">\n",
              "      <th></th>\n",
              "      <th>ID</th>\n",
              "      <th>Marital Status</th>\n",
              "      <th>Gender</th>\n",
              "      <th>MaritalStatusNumeric</th>\n",
              "      <th>GenderNumeric</th>\n",
              "      <th>Income</th>\n",
              "      <th>Children</th>\n",
              "      <th>EducationNumeric</th>\n",
              "      <th>CommuteDistanceNumeric</th>\n",
              "      <th>Cars</th>\n",
              "      <th>Age</th>\n",
              "      <th>HomeOwnerNumeric</th>\n",
              "      <th>PurchaseBikeNumeric</th>\n",
              "      <th>Education</th>\n",
              "      <th>Occupation</th>\n",
              "      <th>Home Owner</th>\n",
              "      <th>Commute Distance</th>\n",
              "      <th>Region</th>\n",
              "      <th>Purchased Bike</th>\n",
              "    </tr>\n",
              "  </thead>\n",
              "  <tbody>\n",
              "    <tr>\n",
              "      <th>0</th>\n",
              "      <td>19147</td>\n",
              "      <td>Married</td>\n",
              "      <td>Male</td>\n",
              "      <td>1</td>\n",
              "      <td>0</td>\n",
              "      <td>40000</td>\n",
              "      <td>0</td>\n",
              "      <td>4</td>\n",
              "      <td>1</td>\n",
              "      <td>1</td>\n",
              "      <td>42</td>\n",
              "      <td>0</td>\n",
              "      <td>0</td>\n",
              "      <td>Bachelors</td>\n",
              "      <td>Professional</td>\n",
              "      <td>No</td>\n",
              "      <td>0-1 Miles</td>\n",
              "      <td>North America</td>\n",
              "      <td>No</td>\n",
              "    </tr>\n",
              "    <tr>\n",
              "      <th>1</th>\n",
              "      <td>22296</td>\n",
              "      <td>Married</td>\n",
              "      <td>Male</td>\n",
              "      <td>1</td>\n",
              "      <td>0</td>\n",
              "      <td>70000</td>\n",
              "      <td>0</td>\n",
              "      <td>4</td>\n",
              "      <td>1</td>\n",
              "      <td>1</td>\n",
              "      <td>38</td>\n",
              "      <td>0</td>\n",
              "      <td>0</td>\n",
              "      <td>Bachelors</td>\n",
              "      <td>Professional</td>\n",
              "      <td>No</td>\n",
              "      <td>0-1 Miles</td>\n",
              "      <td>North America</td>\n",
              "      <td>No</td>\n",
              "    </tr>\n",
              "    <tr>\n",
              "      <th>2</th>\n",
              "      <td>25983</td>\n",
              "      <td>Married</td>\n",
              "      <td>Male</td>\n",
              "      <td>1</td>\n",
              "      <td>0</td>\n",
              "      <td>70000</td>\n",
              "      <td>0</td>\n",
              "      <td>4</td>\n",
              "      <td>1</td>\n",
              "      <td>1</td>\n",
              "      <td>43</td>\n",
              "      <td>0</td>\n",
              "      <td>0</td>\n",
              "      <td>Bachelors</td>\n",
              "      <td>Professional</td>\n",
              "      <td>No</td>\n",
              "      <td>0-1 Miles</td>\n",
              "      <td>North America</td>\n",
              "      <td>No</td>\n",
              "    </tr>\n",
              "  </tbody>\n",
              "</table>\n",
              "</div>\n",
              "      <button class=\"colab-df-convert\" onclick=\"convertToInteractive('df-26b2fc31-a10f-4af6-a8ec-048451fcbf56')\"\n",
              "              title=\"Convert this dataframe to an interactive table.\"\n",
              "              style=\"display:none;\">\n",
              "        \n",
              "  <svg xmlns=\"http://www.w3.org/2000/svg\" height=\"24px\"viewBox=\"0 0 24 24\"\n",
              "       width=\"24px\">\n",
              "    <path d=\"M0 0h24v24H0V0z\" fill=\"none\"/>\n",
              "    <path d=\"M18.56 5.44l.94 2.06.94-2.06 2.06-.94-2.06-.94-.94-2.06-.94 2.06-2.06.94zm-11 1L8.5 8.5l.94-2.06 2.06-.94-2.06-.94L8.5 2.5l-.94 2.06-2.06.94zm10 10l.94 2.06.94-2.06 2.06-.94-2.06-.94-.94-2.06-.94 2.06-2.06.94z\"/><path d=\"M17.41 7.96l-1.37-1.37c-.4-.4-.92-.59-1.43-.59-.52 0-1.04.2-1.43.59L10.3 9.45l-7.72 7.72c-.78.78-.78 2.05 0 2.83L4 21.41c.39.39.9.59 1.41.59.51 0 1.02-.2 1.41-.59l7.78-7.78 2.81-2.81c.8-.78.8-2.07 0-2.86zM5.41 20L4 18.59l7.72-7.72 1.47 1.35L5.41 20z\"/>\n",
              "  </svg>\n",
              "      </button>\n",
              "      \n",
              "  <style>\n",
              "    .colab-df-container {\n",
              "      display:flex;\n",
              "      flex-wrap:wrap;\n",
              "      gap: 12px;\n",
              "    }\n",
              "\n",
              "    .colab-df-convert {\n",
              "      background-color: #E8F0FE;\n",
              "      border: none;\n",
              "      border-radius: 50%;\n",
              "      cursor: pointer;\n",
              "      display: none;\n",
              "      fill: #1967D2;\n",
              "      height: 32px;\n",
              "      padding: 0 0 0 0;\n",
              "      width: 32px;\n",
              "    }\n",
              "\n",
              "    .colab-df-convert:hover {\n",
              "      background-color: #E2EBFA;\n",
              "      box-shadow: 0px 1px 2px rgba(60, 64, 67, 0.3), 0px 1px 3px 1px rgba(60, 64, 67, 0.15);\n",
              "      fill: #174EA6;\n",
              "    }\n",
              "\n",
              "    [theme=dark] .colab-df-convert {\n",
              "      background-color: #3B4455;\n",
              "      fill: #D2E3FC;\n",
              "    }\n",
              "\n",
              "    [theme=dark] .colab-df-convert:hover {\n",
              "      background-color: #434B5C;\n",
              "      box-shadow: 0px 1px 3px 1px rgba(0, 0, 0, 0.15);\n",
              "      filter: drop-shadow(0px 1px 2px rgba(0, 0, 0, 0.3));\n",
              "      fill: #FFFFFF;\n",
              "    }\n",
              "  </style>\n",
              "\n",
              "      <script>\n",
              "        const buttonEl =\n",
              "          document.querySelector('#df-26b2fc31-a10f-4af6-a8ec-048451fcbf56 button.colab-df-convert');\n",
              "        buttonEl.style.display =\n",
              "          google.colab.kernel.accessAllowed ? 'block' : 'none';\n",
              "\n",
              "        async function convertToInteractive(key) {\n",
              "          const element = document.querySelector('#df-26b2fc31-a10f-4af6-a8ec-048451fcbf56');\n",
              "          const dataTable =\n",
              "            await google.colab.kernel.invokeFunction('convertToInteractive',\n",
              "                                                     [key], {});\n",
              "          if (!dataTable) return;\n",
              "\n",
              "          const docLinkHtml = 'Like what you see? Visit the ' +\n",
              "            '<a target=\"_blank\" href=https://colab.research.google.com/notebooks/data_table.ipynb>data table notebook</a>'\n",
              "            + ' to learn more about interactive tables.';\n",
              "          element.innerHTML = '';\n",
              "          dataTable['output_type'] = 'display_data';\n",
              "          await google.colab.output.renderOutput(dataTable, element);\n",
              "          const docLink = document.createElement('div');\n",
              "          docLink.innerHTML = docLinkHtml;\n",
              "          element.appendChild(docLink);\n",
              "        }\n",
              "      </script>\n",
              "    </div>\n",
              "  </div>\n",
              "  "
            ]
          },
          "metadata": {},
          "execution_count": 96
        }
      ]
    },
    {
      "cell_type": "code",
      "source": [
        "df_customers['Education'].unique()"
      ],
      "metadata": {
        "colab": {
          "base_uri": "https://localhost:8080/"
        },
        "id": "ROQwTq6C1iBV",
        "outputId": "4740a200-c4a7-4b50-b9c9-8b55465431b9"
      },
      "execution_count": null,
      "outputs": [
        {
          "output_type": "execute_result",
          "data": {
            "text/plain": [
              "array(['Bachelors', 'Graduate Degree', 'High School', 'Partial College',\n",
              "       'Partial High School'], dtype=object)"
            ]
          },
          "metadata": {},
          "execution_count": 97
        }
      ]
    },
    {
      "cell_type": "code",
      "source": [
        "df_customers['education_rank'] = df_customers['Education']\n",
        "replace_dict = {\n",
        "    'Partial High School': 1,\n",
        "    'High School': 2,\n",
        "    'Partial College': 3,\n",
        "    'Bachelors': 4, \n",
        "    'Graduate Degree': 5\n",
        "}\n",
        "df_customers['education_rank'] = df_customers['education_rank'].replace(replace_dict)"
      ],
      "metadata": {
        "id": "tCjHElm21nXu"
      },
      "execution_count": null,
      "outputs": []
    },
    {
      "cell_type": "code",
      "source": [
        "df_customers['education_rank']\n",
        "df_customers['education_rank'] = df_customers['education_rank'].astype('int64')"
      ],
      "metadata": {
        "id": "nNTCT4gy2pVk"
      },
      "execution_count": null,
      "outputs": []
    },
    {
      "cell_type": "code",
      "source": [
        "original_cat = df_customers['Commute Distance'].unique()"
      ],
      "metadata": {
        "id": "RrYCEO3q4Hwt"
      },
      "execution_count": null,
      "outputs": []
    },
    {
      "cell_type": "code",
      "source": [
        "df_customers['commute_rank'] = df_customers['Commute Distance']\n",
        "df_customers['commute_rank'] = df_customers['commute_rank'].replace(original_cat, [0,1,2,5,10])\n",
        "df_customers['commute_rank'] = df_customers['commute_rank'].astype('int64')"
      ],
      "metadata": {
        "id": "XqOd2u3t2sJt"
      },
      "execution_count": null,
      "outputs": []
    },
    {
      "cell_type": "code",
      "source": [
        "df_customers['Purchased Bike'] = df_customers['Purchased Bike'].replace(['Yes', 'No'], [0,1])\n",
        "df_customers['Purchased Bike'] = df_customers['Purchased Bike'].astype('int64')"
      ],
      "metadata": {
        "id": "U3EqMFnP4oTB"
      },
      "execution_count": null,
      "outputs": []
    },
    {
      "cell_type": "code",
      "source": [
        "plt.figure(figsize=(10,5))\n",
        "ax = sns.barplot(data=df_customers, x=\"Education\",y=\"Age\")\n",
        "ax.set_xticklabels(ax.get_xticklabels() ,rotation=90)\n",
        "plt.show()"
      ],
      "metadata": {
        "colab": {
          "base_uri": "https://localhost:8080/",
          "height": 418
        },
        "id": "1iG7ovDj5OUy",
        "outputId": "092f3865-5b54-47b6-a452-2f52c6f84440"
      },
      "execution_count": null,
      "outputs": [
        {
          "output_type": "display_data",
          "data": {
            "text/plain": [
              "<Figure size 720x360 with 1 Axes>"
            ],
            "image/png": "[encoded data removed]"
          },
          "metadata": {}
        }
      ]
    },
    {
      "cell_type": "code",
      "source": [
        "plt.figure(figsize=(10,5))\n",
        "ax = sns.barplot(data=df_customers,\n",
        "                 x=\"Education\",\n",
        "                 y=\"Age\",\n",
        "                 order=replace_dict.keys())\n",
        "ax.set_xticklabels(ax.get_xticklabels() ,rotation=90)\n",
        "plt.show()\n",
        "\n",
        "''' \n",
        "Se puede especificar el orden utilizando los metodos sort y sorted. \n",
        "ejemplo: order=sorted(replace_dict.keys()) ordena alfabeticamente. ,reverse=True regresa el orden\n",
        "inverso. sort es igual a sorted pero sort modifica la lista y regresa none, sorted regresa una nueva lista.\n",
        "''' \n"
      ],
      "metadata": {
        "colab": {
          "base_uri": "https://localhost:8080/",
          "height": 474
        },
        "id": "rILPYz3j6zau",
        "outputId": "6bf48555-6492-40d5-93f8-7168c49251c0"
      },
      "execution_count": null,
      "outputs": [
        {
          "output_type": "display_data",
          "data": {
            "text/plain": [
              "<Figure size 720x360 with 1 Axes>"
            ],
            "image/png": "[encoded data removed]"
          },
          "metadata": {}
        },
        {
          "output_type": "execute_result",
          "data": {
            "text/plain": [
              "' \\nSe puede especificar el orden utilizando los metodos sort y sorted. \\nejemplo: order=sorted(replace_dict.keys()) ordena alfabeticamente. ,reverse=True regresa el orden\\ninverso. sort es igual a sorted pero sort modifica la lista y regresa none, sorted regresa una nueva lista.\\n'"
            ],
            "application/vnd.google.colaboratory.intrinsic+json": {
              "type": "string"
            }
          },
          "metadata": {},
          "execution_count": 104
        }
      ]
    },
    {
      "cell_type": "code",
      "source": [
        "print(list(replace_dict.keys()))"
      ],
      "metadata": {
        "colab": {
          "base_uri": "https://localhost:8080/"
        },
        "id": "xELCvhle7JJk",
        "outputId": "52fc159b-fc57-428d-9336-2ce5028fd8f0"
      },
      "execution_count": null,
      "outputs": [
        {
          "output_type": "stream",
          "name": "stdout",
          "text": [
            "['Partial High School', 'High School', 'Partial College', 'Bachelors', 'Graduate Degree']\n"
          ]
        }
      ]
    },
    {
      "cell_type": "code",
      "source": [
        "plt.figure(figsize=(10,5))\n",
        "ax = sns.barplot(data=df_customers,\n",
        "                 x=\"Education\",\n",
        "                 y=\"Age\",\n",
        "                 order=replace_dict.keys(),\n",
        "                 estimator=np.median,\n",
        "                 #errorbar en versiones mas recientes\n",
        "                 ci='sd')\n",
        "ax.set_xticklabels(ax.get_xticklabels() ,rotation=90)\n",
        "plt.show()\n",
        "\n",
        "### estimator = np.max, np.min, np.median,\n",
        "### visualizamos la varianza de las medias al mostrar las lineas de error"
      ],
      "metadata": {
        "colab": {
          "base_uri": "https://localhost:8080/",
          "height": 418
        },
        "id": "0_LiYm8r-ABV",
        "outputId": "c5cbaa1a-4bcc-4c01-88e8-f1a3e7e668cb"
      },
      "execution_count": null,
      "outputs": [
        {
          "output_type": "display_data",
          "data": {
            "text/plain": [
              "<Figure size 720x360 with 1 Axes>"
            ],
            "image/png": "[encoded data removed]"
          },
          "metadata": {}
        }
      ]
    },
    {
      "cell_type": "code",
      "source": [
        "plt.figure(figsize=(10,5))\n",
        "ax = sns.barplot(data=df_customers,\n",
        "                 x=\"Education\",\n",
        "                 y=\"Age\",\n",
        "                 order=replace_dict.keys(),\n",
        "                 estimator=np.median,\n",
        "                 #errorbar en versiones mas recientes\n",
        "                 ci='sd',\n",
        "                 hue=\"Purchased Bike\")\n",
        "ax.set_xticklabels(ax.get_xticklabels() ,rotation=90)\n",
        "plt.show()\n"
      ],
      "metadata": {
        "colab": {
          "base_uri": "https://localhost:8080/",
          "height": 418
        },
        "id": "rWUVcRVXBy4a",
        "outputId": "05b14285-a3ae-476e-e65d-46d80d08447e"
      },
      "execution_count": null,
      "outputs": [
        {
          "output_type": "display_data",
          "data": {
            "text/plain": [
              "<Figure size 720x360 with 1 Axes>"
            ],
            "image/png": "[encoded data removed]"
          },
          "metadata": {}
        }
      ]
    },
    {
      "cell_type": "code",
      "source": [
        "plt.figure(figsize=(10,5))\n",
        "ax = sns.catplot(data=df_customers,\n",
        "                 x=\"Education\",\n",
        "                 y=\"Age\",\n",
        "                 order=replace_dict.keys(),\n",
        "                 estimator=np.median,\n",
        "                 #errorbar en versiones mas recientes\n",
        "                 ci='sd',\n",
        "                 hue=\"Purchased Bike\",\n",
        "                 col=\"Home Owner\",\n",
        "                 kind=\"box\")\n",
        "ax.set_xticklabels(rotation=90)\n",
        "plt.show()\n"
      ],
      "metadata": {
        "colab": {
          "base_uri": "https://localhost:8080/",
          "height": 472
        },
        "id": "OB7fEHFmE0Lr",
        "outputId": "824f491c-f842-4e4e-cd33-915289330243"
      },
      "execution_count": null,
      "outputs": [
        {
          "output_type": "display_data",
          "data": {
            "text/plain": [
              "<Figure size 720x360 with 0 Axes>"
            ]
          },
          "metadata": {}
        },
        {
          "output_type": "display_data",
          "data": {
            "text/plain": [
              "<Figure size 804.25x360 with 2 Axes>"
            ],
            "image/png": "[encoded data removed]"
          },
          "metadata": {}
        }
      ]
    },
    {
      "cell_type": "code",
      "source": [
        "from scipy import stats\n",
        "df_customers_by_education = df_customers.groupby('Education')['Purchased Bike']\n",
        "groups = [df_customers_by_education.get_group(x) for x in df_customers_by_education.groups]\n",
        "\n",
        "f_value, p_value = stats.f_oneway(*groups)\n",
        "print(\"Resultados ANOVA:\\n F: \",f_value, \"\\n p: \" + str(p_value))"
      ],
      "metadata": {
        "colab": {
          "base_uri": "https://localhost:8080/"
        },
        "id": "z4HxiGwZGtwp",
        "outputId": "cfc011bf-d749-4a00-8b07-f4e915266fcd"
      },
      "execution_count": null,
      "outputs": [
        {
          "output_type": "stream",
          "name": "stdout",
          "text": [
            "Resultados ANOVA:\n",
            " F:  6.465288388710145 \n",
            " p: 3.8877233994112315e-05\n"
          ]
        }
      ]
    },
    {
      "cell_type": "code",
      "source": [
        "from statsmodels.stats.multicomp import pairwise_tukeyhsd\n",
        "\n",
        "tukey = pairwise_tukeyhsd(df_customers['Purchased Bike'], df_customers['Education'])\n",
        "print(tukey)"
      ],
      "metadata": {
        "colab": {
          "base_uri": "https://localhost:8080/"
        },
        "id": "tBPISOdlJZ8N",
        "outputId": "867b328b-1aa7-4242-f04c-0b0f98344acf"
      },
      "execution_count": null,
      "outputs": [
        {
          "output_type": "stream",
          "name": "stdout",
          "text": [
            "           Multiple Comparison of Means - Tukey HSD, FWER=0.05           \n",
            "=========================================================================\n",
            "     group1            group2       meandiff p-adj   lower  upper  reject\n",
            "-------------------------------------------------------------------------\n",
            "      Bachelors     Graduate Degree   0.0121    0.9 -0.1163 0.1404  False\n",
            "      Bachelors         High School   0.1109 0.1206 -0.0162 0.2381  False\n",
            "      Bachelors     Partial College   0.1032 0.0941 -0.0102 0.2166  False\n",
            "      Bachelors Partial High School   0.2891  0.001  0.1159 0.4623   True\n",
            "Graduate Degree         High School   0.0989 0.3296  -0.045 0.2428  False\n",
            "Graduate Degree     Partial College   0.0912 0.3235 -0.0407  0.223  False\n",
            "Graduate Degree Partial High School   0.2771  0.001  0.0913 0.4629   True\n",
            "    High School     Partial College  -0.0077    0.9 -0.1385  0.123  False\n",
            "    High School Partial High School   0.1782 0.0656 -0.0068 0.3632  False\n",
            "Partial College Partial High School   0.1859 0.0322  0.0101 0.3617   True\n",
            "-------------------------------------------------------------------------\n"
          ]
        }
      ]
    }
  ]
}