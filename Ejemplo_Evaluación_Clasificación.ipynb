{
  "nbformat": 4,
  "nbformat_minor": 0,
  "metadata": {
    "colab": {
      "provenance": [],
      "collapsed_sections": []
    },
    "kernelspec": {
      "name": "python3",
      "display_name": "Python 3"
    },
    "language_info": {
      "name": "python"
    }
  },
  "cells": [
    {
      "cell_type": "code",
      "execution_count": 35,
      "metadata": {
        "id": "_KztK4FpjTha"
      },
      "outputs": [],
      "source": [
        "import sys\n",
        "import pandas as pd\n",
        "import numpy as np\n",
        "import matplotlib.pyplot as plt\n",
        "import seaborn as sns\n",
        "\n",
        "from sklearn.datasets import make_classification \n",
        "from sklearn.model_selection import train_test_split\n",
        "from sklearn.metrics import confusion_matrix\n",
        "from sklearn.pipeline import make_pipeline\n",
        "\n",
        "\n",
        "from sklearn.discriminant_analysis import LinearDiscriminantAnalysis\n",
        "from sklearn.naive_bayes import GaussianNB\n",
        "from sklearn.ensemble import RandomForestClassifier\n",
        "from sklearn.svm import SVC \n",
        "\n",
        "\n",
        "\n",
        "sns.set_style('darkgrid')\n",
        "sns.set_palette('rainbow')"
      ]
    },
    {
      "cell_type": "code",
      "source": [
        "!{sys.executable} -m pip install py-heat-magic memory_profiler line_profiler\n",
        "%load_ext heat\n",
        "%load_ext memory_profiler\n",
        "%load_ext line_profiler"
      ],
      "metadata": {
        "colab": {
          "base_uri": "https://localhost:8080/"
        },
        "id": "rlBSv_Cqjnmr",
        "outputId": "270f3950-fe0b-4091-b5d1-c76950632fb9"
      },
      "execution_count": 3,
      "outputs": [
        {
          "output_type": "stream",
          "name": "stdout",
          "text": [
            "Looking in indexes: https://pypi.org/simple, https://us-python.pkg.dev/colab-wheels/public/simple/\n",
            "Collecting py-heat-magic\n",
            "  Downloading py-heat-magic-0.0.2.tar.gz (3.4 kB)\n",
            "Collecting memory_profiler\n",
            "  Downloading memory_profiler-0.60.0.tar.gz (38 kB)\n",
            "Collecting line_profiler\n",
            "  Downloading line_profiler-3.5.1-cp37-cp37m-manylinux_2_17_x86_64.manylinux2014_x86_64.whl (67 kB)\n",
            "\u001b[K     |████████████████████████████████| 67 kB 4.5 MB/s \n",
            "\u001b[?25hRequirement already satisfied: numpy in /usr/local/lib/python3.7/dist-packages (from py-heat-magic) (1.21.6)\n",
            "Requirement already satisfied: scipy in /usr/local/lib/python3.7/dist-packages (from py-heat-magic) (1.7.3)\n",
            "Requirement already satisfied: matplotlib in /usr/local/lib/python3.7/dist-packages (from py-heat-magic) (3.2.2)\n",
            "Requirement already satisfied: ipython in /usr/local/lib/python3.7/dist-packages (from py-heat-magic) (7.9.0)\n",
            "Collecting jupyter\n",
            "  Downloading jupyter-1.0.0-py2.py3-none-any.whl (2.7 kB)\n",
            "Requirement already satisfied: pandas in /usr/local/lib/python3.7/dist-packages (from py-heat-magic) (1.3.5)\n",
            "Requirement already satisfied: sympy in /usr/local/lib/python3.7/dist-packages (from py-heat-magic) (1.7.1)\n",
            "Collecting nose\n",
            "  Downloading nose-1.3.7-py3-none-any.whl (154 kB)\n",
            "\u001b[K     |████████████████████████████████| 154 kB 41.1 MB/s \n",
            "\u001b[?25hCollecting py-heat\n",
            "  Downloading py-heat-0.0.6.tar.gz (7.1 kB)\n",
            "Requirement already satisfied: psutil in /usr/local/lib/python3.7/dist-packages (from memory_profiler) (5.4.8)\n",
            "Requirement already satisfied: decorator in /usr/local/lib/python3.7/dist-packages (from ipython->py-heat-magic) (4.4.2)\n",
            "Collecting jedi>=0.10\n",
            "  Downloading jedi-0.18.1-py2.py3-none-any.whl (1.6 MB)\n",
            "\u001b[K     |████████████████████████████████| 1.6 MB 50.4 MB/s \n",
            "\u001b[?25hRequirement already satisfied: setuptools>=18.5 in /usr/local/lib/python3.7/dist-packages (from ipython->py-heat-magic) (57.4.0)\n",
            "Requirement already satisfied: backcall in /usr/local/lib/python3.7/dist-packages (from ipython->py-heat-magic) (0.2.0)\n",
            "Requirement already satisfied: pygments in /usr/local/lib/python3.7/dist-packages (from ipython->py-heat-magic) (2.6.1)\n",
            "Requirement already satisfied: pickleshare in /usr/local/lib/python3.7/dist-packages (from ipython->py-heat-magic) (0.7.5)\n",
            "Requirement already satisfied: prompt-toolkit<2.1.0,>=2.0.0 in /usr/local/lib/python3.7/dist-packages (from ipython->py-heat-magic) (2.0.10)\n",
            "Requirement already satisfied: pexpect in /usr/local/lib/python3.7/dist-packages (from ipython->py-heat-magic) (4.8.0)\n",
            "Requirement already satisfied: traitlets>=4.2 in /usr/local/lib/python3.7/dist-packages (from ipython->py-heat-magic) (5.1.1)\n",
            "Requirement already satisfied: parso<0.9.0,>=0.8.0 in /usr/local/lib/python3.7/dist-packages (from jedi>=0.10->ipython->py-heat-magic) (0.8.3)\n",
            "Requirement already satisfied: wcwidth in /usr/local/lib/python3.7/dist-packages (from prompt-toolkit<2.1.0,>=2.0.0->ipython->py-heat-magic) (0.2.5)\n",
            "Requirement already satisfied: six>=1.9.0 in /usr/local/lib/python3.7/dist-packages (from prompt-toolkit<2.1.0,>=2.0.0->ipython->py-heat-magic) (1.15.0)\n",
            "Requirement already satisfied: notebook in /usr/local/lib/python3.7/dist-packages (from jupyter->py-heat-magic) (5.5.0)\n",
            "Requirement already satisfied: nbconvert in /usr/local/lib/python3.7/dist-packages (from jupyter->py-heat-magic) (5.6.1)\n",
            "Requirement already satisfied: ipykernel in /usr/local/lib/python3.7/dist-packages (from jupyter->py-heat-magic) (5.3.4)\n",
            "Requirement already satisfied: jupyter-console in /usr/local/lib/python3.7/dist-packages (from jupyter->py-heat-magic) (6.1.0)\n",
            "Collecting qtconsole\n",
            "  Downloading qtconsole-5.3.2-py3-none-any.whl (120 kB)\n",
            "\u001b[K     |████████████████████████████████| 120 kB 61.4 MB/s \n",
            "\u001b[?25hRequirement already satisfied: ipywidgets in /usr/local/lib/python3.7/dist-packages (from jupyter->py-heat-magic) (7.7.1)\n",
            "Requirement already satisfied: tornado>=4.2 in /usr/local/lib/python3.7/dist-packages (from ipykernel->jupyter->py-heat-magic) (5.1.1)\n",
            "Requirement already satisfied: jupyter-client in /usr/local/lib/python3.7/dist-packages (from ipykernel->jupyter->py-heat-magic) (6.1.12)\n",
            "Requirement already satisfied: jupyterlab-widgets>=1.0.0 in /usr/local/lib/python3.7/dist-packages (from ipywidgets->jupyter->py-heat-magic) (3.0.3)\n",
            "Requirement already satisfied: ipython-genutils~=0.2.0 in /usr/local/lib/python3.7/dist-packages (from ipywidgets->jupyter->py-heat-magic) (0.2.0)\n",
            "Requirement already satisfied: widgetsnbextension~=3.6.0 in /usr/local/lib/python3.7/dist-packages (from ipywidgets->jupyter->py-heat-magic) (3.6.1)\n",
            "Requirement already satisfied: terminado>=0.8.1 in /usr/local/lib/python3.7/dist-packages (from notebook->jupyter->py-heat-magic) (0.13.3)\n",
            "Requirement already satisfied: jinja2 in /usr/local/lib/python3.7/dist-packages (from notebook->jupyter->py-heat-magic) (2.11.3)\n",
            "Requirement already satisfied: pyzmq>=17 in /usr/local/lib/python3.7/dist-packages (from notebook->jupyter->py-heat-magic) (23.2.1)\n",
            "Requirement already satisfied: Send2Trash in /usr/local/lib/python3.7/dist-packages (from notebook->jupyter->py-heat-magic) (1.8.0)\n",
            "Requirement already satisfied: nbformat in /usr/local/lib/python3.7/dist-packages (from notebook->jupyter->py-heat-magic) (5.7.0)\n",
            "Requirement already satisfied: jupyter-core>=4.4.0 in /usr/local/lib/python3.7/dist-packages (from notebook->jupyter->py-heat-magic) (4.11.1)\n",
            "Requirement already satisfied: python-dateutil>=2.1 in /usr/local/lib/python3.7/dist-packages (from jupyter-client->ipykernel->jupyter->py-heat-magic) (2.8.2)\n",
            "Requirement already satisfied: ptyprocess in /usr/local/lib/python3.7/dist-packages (from terminado>=0.8.1->notebook->jupyter->py-heat-magic) (0.7.0)\n",
            "Requirement already satisfied: MarkupSafe>=0.23 in /usr/local/lib/python3.7/dist-packages (from jinja2->notebook->jupyter->py-heat-magic) (2.0.1)\n",
            "Requirement already satisfied: kiwisolver>=1.0.1 in /usr/local/lib/python3.7/dist-packages (from matplotlib->py-heat-magic) (1.4.4)\n",
            "Requirement already satisfied: pyparsing!=2.0.4,!=2.1.2,!=2.1.6,>=2.0.1 in /usr/local/lib/python3.7/dist-packages (from matplotlib->py-heat-magic) (3.0.9)\n",
            "Requirement already satisfied: cycler>=0.10 in /usr/local/lib/python3.7/dist-packages (from matplotlib->py-heat-magic) (0.11.0)\n",
            "Requirement already satisfied: typing-extensions in /usr/local/lib/python3.7/dist-packages (from kiwisolver>=1.0.1->matplotlib->py-heat-magic) (4.1.1)\n",
            "Requirement already satisfied: testpath in /usr/local/lib/python3.7/dist-packages (from nbconvert->jupyter->py-heat-magic) (0.6.0)\n",
            "Requirement already satisfied: bleach in /usr/local/lib/python3.7/dist-packages (from nbconvert->jupyter->py-heat-magic) (5.0.1)\n",
            "Requirement already satisfied: defusedxml in /usr/local/lib/python3.7/dist-packages (from nbconvert->jupyter->py-heat-magic) (0.7.1)\n",
            "Requirement already satisfied: mistune<2,>=0.8.1 in /usr/local/lib/python3.7/dist-packages (from nbconvert->jupyter->py-heat-magic) (0.8.4)\n",
            "Requirement already satisfied: entrypoints>=0.2.2 in /usr/local/lib/python3.7/dist-packages (from nbconvert->jupyter->py-heat-magic) (0.4)\n",
            "Requirement already satisfied: pandocfilters>=1.4.1 in /usr/local/lib/python3.7/dist-packages (from nbconvert->jupyter->py-heat-magic) (1.5.0)\n",
            "Requirement already satisfied: importlib-metadata>=3.6 in /usr/local/lib/python3.7/dist-packages (from nbformat->notebook->jupyter->py-heat-magic) (4.13.0)\n",
            "Requirement already satisfied: fastjsonschema in /usr/local/lib/python3.7/dist-packages (from nbformat->notebook->jupyter->py-heat-magic) (2.16.2)\n",
            "Requirement already satisfied: jsonschema>=2.6 in /usr/local/lib/python3.7/dist-packages (from nbformat->notebook->jupyter->py-heat-magic) (4.3.3)\n",
            "Requirement already satisfied: zipp>=0.5 in /usr/local/lib/python3.7/dist-packages (from importlib-metadata>=3.6->nbformat->notebook->jupyter->py-heat-magic) (3.9.0)\n",
            "Requirement already satisfied: attrs>=17.4.0 in /usr/local/lib/python3.7/dist-packages (from jsonschema>=2.6->nbformat->notebook->jupyter->py-heat-magic) (22.1.0)\n",
            "Requirement already satisfied: importlib-resources>=1.4.0 in /usr/local/lib/python3.7/dist-packages (from jsonschema>=2.6->nbformat->notebook->jupyter->py-heat-magic) (5.10.0)\n",
            "Requirement already satisfied: pyrsistent!=0.17.0,!=0.17.1,!=0.17.2,>=0.14.0 in /usr/local/lib/python3.7/dist-packages (from jsonschema>=2.6->nbformat->notebook->jupyter->py-heat-magic) (0.18.1)\n",
            "Requirement already satisfied: webencodings in /usr/local/lib/python3.7/dist-packages (from bleach->nbconvert->jupyter->py-heat-magic) (0.5.1)\n",
            "Requirement already satisfied: pytz>=2017.3 in /usr/local/lib/python3.7/dist-packages (from pandas->py-heat-magic) (2022.4)\n",
            "Collecting pprofile\n",
            "  Downloading pprofile-2.1.0.tar.gz (56 kB)\n",
            "\u001b[K     |████████████████████████████████| 56 kB 4.4 MB/s \n",
            "\u001b[?25hCollecting qtpy>=2.0.1\n",
            "  Downloading QtPy-2.2.1-py3-none-any.whl (82 kB)\n",
            "\u001b[K     |████████████████████████████████| 82 kB 855 kB/s \n",
            "\u001b[?25hRequirement already satisfied: packaging in /usr/local/lib/python3.7/dist-packages (from qtpy>=2.0.1->qtconsole->jupyter->py-heat-magic) (21.3)\n",
            "Requirement already satisfied: mpmath>=0.19 in /usr/local/lib/python3.7/dist-packages (from sympy->py-heat-magic) (1.2.1)\n",
            "Building wheels for collected packages: py-heat-magic, memory-profiler, py-heat, pprofile\n",
            "  Building wheel for py-heat-magic (setup.py) ... \u001b[?25l\u001b[?25hdone\n",
            "  Created wheel for py-heat-magic: filename=py_heat_magic-0.0.2-py3-none-any.whl size=3160 sha256=eae7ecb9f0880a86e6abe01b49b0668c083d177066b675220af2ece9349f014e\n",
            "  Stored in directory: /root/.cache/pip/wheels/02/f0/14/07011a5f5eae97f9bd0a5e033cdeb3962687bbd41ba706a760\n",
            "  Building wheel for memory-profiler (setup.py) ... \u001b[?25l\u001b[?25hdone\n",
            "  Created wheel for memory-profiler: filename=memory_profiler-0.60.0-py3-none-any.whl size=31284 sha256=aa503ad6d298daf9e9cfdfad1ec004414302a91dc8a215923d6032f68db9b4a5\n",
            "  Stored in directory: /root/.cache/pip/wheels/67/2b/fb/326e30d638c538e69a5eb0aa47f4223d979f502bbdb403950f\n",
            "  Building wheel for py-heat (setup.py) ... \u001b[?25l\u001b[?25hdone\n",
            "  Created wheel for py-heat: filename=py_heat-0.0.6-py2.py3-none-any.whl size=7811 sha256=aaabb09796b982898568622581145aed5686e5730044e6c2a33526ae00006759\n",
            "  Stored in directory: /root/.cache/pip/wheels/c8/24/f1/00831de5c2061877308ef5b9571b3e45a68bc29130a12eaa2b\n",
            "  Building wheel for pprofile (setup.py) ... \u001b[?25l\u001b[?25hdone\n",
            "  Created wheel for pprofile: filename=pprofile-2.1.0-py3-none-any.whl size=36290 sha256=c529f449e72b02a6e0cf3f3eda9c89b9cc57800ee1941c27f1b8e8c3fcf89a21\n",
            "  Stored in directory: /root/.cache/pip/wheels/25/84/f8/c3e7b30bc2a3b2919c9207bbfbffa700a26642227e9c1d4245\n",
            "Successfully built py-heat-magic memory-profiler py-heat pprofile\n",
            "Installing collected packages: jedi, qtpy, qtconsole, pprofile, py-heat, nose, jupyter, py-heat-magic, memory-profiler, line-profiler\n",
            "Successfully installed jedi-0.18.1 jupyter-1.0.0 line-profiler-3.5.1 memory-profiler-0.60.0 nose-1.3.7 pprofile-2.1.0 py-heat-0.0.6 py-heat-magic-0.0.2 qtconsole-5.3.2 qtpy-2.2.1\n"
          ]
        }
      ]
    },
    {
      "cell_type": "code",
      "source": [
        "def accuaracy_calc(TP, TN, FP, FN):\n",
        "    accuracy = (TP + TN) / (TP + TN + FP + FN)\n",
        "    accuracy = accuracy * 100\n",
        "    return accuracy\n",
        "\n",
        "def sensibility_calc(TP, TN, FP, FN):\n",
        "    sensibility = TP / (TP + FN)\n",
        "    sensibility = sensibility * 100\n",
        "    return sensibility\n",
        "\n",
        "def specificity_calc(TP, TN, FP, FN):\n",
        "    specificity = TN / (TN + FP)\n",
        "    specificity = specificity * 100\n",
        "    return specificity\n",
        "\n",
        "def evaluation(y_test, y_pred):\n",
        "    results = confusion_matrix(y_test, y_pred)\n",
        "    print(pd.DataFrame(results))\n",
        "    (TN, FP, FN, TP) = results.ravel()\n",
        "    print(\"True positives: \",  TP)\n",
        "    print(\"True negatives: \", TN)\n",
        "    print(\"False positives: \", FP)\n",
        "    print(\"False negative: \", FN)\n",
        "\n",
        "    accuracy = accuaracy_calc(TP, TN, FP, FN)\n",
        "    sensibility = sensibility_calc(TP, TN, FP, FN)\n",
        "    specificity = specificity_calc(TP, TN, FP, FN)\n",
        "    print(\"Precision:\",accuracy,\"%\")\n",
        "    print(\"Sensibilidad:\",sensibility,\"%\")\n",
        "    print(\"Especificidad:\",specificity,\"%\")\n",
        "\n"
      ],
      "metadata": {
        "id": "HLw8bRlkkOW9"
      },
      "execution_count": 43,
      "outputs": []
    },
    {
      "cell_type": "code",
      "source": [
        "x, y = make_classification(n_samples=1000, n_classes=2,n_features=10)\n",
        "X_train, X_test, y_train, y_test = train_test_split(x,y,test_size=0.4)\n",
        "\n",
        "sns.scatterplot(x=x[:,0],y=x[:,1],hue=y)\n",
        "plt.show()\n"
      ],
      "metadata": {
        "colab": {
          "base_uri": "https://localhost:8080/",
          "height": 265
        },
        "id": "B2dJtXhgCNrI",
        "outputId": "130d4ddf-03c6-459a-ab44-16dd6ed652e1"
      },
      "execution_count": 18,
      "outputs": [
        {
          "output_type": "display_data",
          "data": {
            "text/plain": [
              "<Figure size 432x288 with 1 Axes>"
            ],
            "image/png": "[encoded data removed]"
          },
          "metadata": {}
        }
      ]
    },
    {
      "cell_type": "code",
      "source": [
        "df_x = pd.DataFrame(x)\n",
        "df_x['labels'] = y\n",
        "df_x"
      ],
      "metadata": {
        "colab": {
          "base_uri": "https://localhost:8080/",
          "height": 424
        },
        "id": "bVFxz2MVOBpT",
        "outputId": "cbc8bbe0-2627-4b0e-d689-67d7a5cd421b"
      },
      "execution_count": 29,
      "outputs": [
        {
          "output_type": "execute_result",
          "data": {
            "text/plain": [
              "            0         1         2         3         4         5         6  \\\n",
              "0    0.151631 -0.418841 -0.692177  1.582387 -0.784620  0.338268  1.190878   \n",
              "1    0.787356 -0.819436  0.826497  0.900396  0.137061  0.035289  1.399599   \n",
              "2   -1.225012  0.924833  0.111071  0.493314 -0.274128  0.102761 -0.113902   \n",
              "3   -0.428394 -1.192227 -0.833838  0.336977  0.934558  1.664676  0.080716   \n",
              "4   -0.575385  0.710672 -1.743255  0.590004 -0.362294  0.337552 -1.510997   \n",
              "..        ...       ...       ...       ...       ...       ...       ...   \n",
              "995  1.044735  0.266116 -0.405095  0.331977  1.101887 -0.737643  0.221280   \n",
              "996  0.710561  0.955148  0.151794 -1.279559 -0.480256 -0.048029 -0.759632   \n",
              "997 -1.245458 -0.186161 -0.080786  0.062222  1.626529  0.646536 -0.792662   \n",
              "998  1.395580  0.317263  0.888995 -0.366057  1.000326 -0.417333 -0.487392   \n",
              "999 -0.465733  1.067256  0.000013 -0.116531 -0.391152  2.172686 -1.600760   \n",
              "\n",
              "            7         8         9  labels  \n",
              "0    0.760893  1.068515 -3.200559       1  \n",
              "1   -0.576588  1.052789  0.307914       1  \n",
              "2    0.798266 -1.114078  1.027269       1  \n",
              "3   -1.746868  1.075520  0.588442       0  \n",
              "4    0.800710 -0.761984  0.634855       1  \n",
              "..        ...       ...       ...     ...  \n",
              "995 -1.228661 -1.053337 -0.898189       0  \n",
              "996  1.067921 -1.028252 -0.507000       0  \n",
              "997 -2.101450 -0.750904  0.464384       0  \n",
              "998 -1.077801 -1.061331 -0.878018       0  \n",
              "999  1.013593 -1.239219 -0.087110       1  \n",
              "\n",
              "[1000 rows x 11 columns]"
            ],
            "text/html": [
              "\n",
              "  <div id=\"df-77a633e8-c2b8-4186-970c-d10c73c693da\">\n",
              "    <div class=\"colab-df-container\">\n",
              "      <div>\n",
              "<style scoped>\n",
              "    .dataframe tbody tr th:only-of-type {\n",
              "        vertical-align: middle;\n",
              "    }\n",
              "\n",
              "    .dataframe tbody tr th {\n",
              "        vertical-align: top;\n",
              "    }\n",
              "\n",
              "    .dataframe thead th {\n",
              "        text-align: right;\n",
              "    }\n",
              "</style>\n",
              "<table border=\"1\" class=\"dataframe\">\n",
              "  <thead>\n",
              "    <tr style=\"text-align: right;\">\n",
              "      <th></th>\n",
              "      <th>0</th>\n",
              "      <th>1</th>\n",
              "      <th>2</th>\n",
              "      <th>3</th>\n",
              "      <th>4</th>\n",
              "      <th>5</th>\n",
              "      <th>6</th>\n",
              "      <th>7</th>\n",
              "      <th>8</th>\n",
              "      <th>9</th>\n",
              "      <th>labels</th>\n",
              "    </tr>\n",
              "  </thead>\n",
              "  <tbody>\n",
              "    <tr>\n",
              "      <th>0</th>\n",
              "      <td>0.151631</td>\n",
              "      <td>-0.418841</td>\n",
              "      <td>-0.692177</td>\n",
              "      <td>1.582387</td>\n",
              "      <td>-0.784620</td>\n",
              "      <td>0.338268</td>\n",
              "      <td>1.190878</td>\n",
              "      <td>0.760893</td>\n",
              "      <td>1.068515</td>\n",
              "      <td>-3.200559</td>\n",
              "      <td>1</td>\n",
              "    </tr>\n",
              "    <tr>\n",
              "      <th>1</th>\n",
              "      <td>0.787356</td>\n",
              "      <td>-0.819436</td>\n",
              "      <td>0.826497</td>\n",
              "      <td>0.900396</td>\n",
              "      <td>0.137061</td>\n",
              "      <td>0.035289</td>\n",
              "      <td>1.399599</td>\n",
              "      <td>-0.576588</td>\n",
              "      <td>1.052789</td>\n",
              "      <td>0.307914</td>\n",
              "      <td>1</td>\n",
              "    </tr>\n",
              "    <tr>\n",
              "      <th>2</th>\n",
              "      <td>-1.225012</td>\n",
              "      <td>0.924833</td>\n",
              "      <td>0.111071</td>\n",
              "      <td>0.493314</td>\n",
              "      <td>-0.274128</td>\n",
              "      <td>0.102761</td>\n",
              "      <td>-0.113902</td>\n",
              "      <td>0.798266</td>\n",
              "      <td>-1.114078</td>\n",
              "      <td>1.027269</td>\n",
              "      <td>1</td>\n",
              "    </tr>\n",
              "    <tr>\n",
              "      <th>3</th>\n",
              "      <td>-0.428394</td>\n",
              "      <td>-1.192227</td>\n",
              "      <td>-0.833838</td>\n",
              "      <td>0.336977</td>\n",
              "      <td>0.934558</td>\n",
              "      <td>1.664676</td>\n",
              "      <td>0.080716</td>\n",
              "      <td>-1.746868</td>\n",
              "      <td>1.075520</td>\n",
              "      <td>0.588442</td>\n",
              "      <td>0</td>\n",
              "    </tr>\n",
              "    <tr>\n",
              "      <th>4</th>\n",
              "      <td>-0.575385</td>\n",
              "      <td>0.710672</td>\n",
              "      <td>-1.743255</td>\n",
              "      <td>0.590004</td>\n",
              "      <td>-0.362294</td>\n",
              "      <td>0.337552</td>\n",
              "      <td>-1.510997</td>\n",
              "      <td>0.800710</td>\n",
              "      <td>-0.761984</td>\n",
              "      <td>0.634855</td>\n",
              "      <td>1</td>\n",
              "    </tr>\n",
              "    <tr>\n",
              "      <th>...</th>\n",
              "      <td>...</td>\n",
              "      <td>...</td>\n",
              "      <td>...</td>\n",
              "      <td>...</td>\n",
              "      <td>...</td>\n",
              "      <td>...</td>\n",
              "      <td>...</td>\n",
              "      <td>...</td>\n",
              "      <td>...</td>\n",
              "      <td>...</td>\n",
              "      <td>...</td>\n",
              "    </tr>\n",
              "    <tr>\n",
              "      <th>995</th>\n",
              "      <td>1.044735</td>\n",
              "      <td>0.266116</td>\n",
              "      <td>-0.405095</td>\n",
              "      <td>0.331977</td>\n",
              "      <td>1.101887</td>\n",
              "      <td>-0.737643</td>\n",
              "      <td>0.221280</td>\n",
              "      <td>-1.228661</td>\n",
              "      <td>-1.053337</td>\n",
              "      <td>-0.898189</td>\n",
              "      <td>0</td>\n",
              "    </tr>\n",
              "    <tr>\n",
              "      <th>996</th>\n",
              "      <td>0.710561</td>\n",
              "      <td>0.955148</td>\n",
              "      <td>0.151794</td>\n",
              "      <td>-1.279559</td>\n",
              "      <td>-0.480256</td>\n",
              "      <td>-0.048029</td>\n",
              "      <td>-0.759632</td>\n",
              "      <td>1.067921</td>\n",
              "      <td>-1.028252</td>\n",
              "      <td>-0.507000</td>\n",
              "      <td>0</td>\n",
              "    </tr>\n",
              "    <tr>\n",
              "      <th>997</th>\n",
              "      <td>-1.245458</td>\n",
              "      <td>-0.186161</td>\n",
              "      <td>-0.080786</td>\n",
              "      <td>0.062222</td>\n",
              "      <td>1.626529</td>\n",
              "      <td>0.646536</td>\n",
              "      <td>-0.792662</td>\n",
              "      <td>-2.101450</td>\n",
              "      <td>-0.750904</td>\n",
              "      <td>0.464384</td>\n",
              "      <td>0</td>\n",
              "    </tr>\n",
              "    <tr>\n",
              "      <th>998</th>\n",
              "      <td>1.395580</td>\n",
              "      <td>0.317263</td>\n",
              "      <td>0.888995</td>\n",
              "      <td>-0.366057</td>\n",
              "      <td>1.000326</td>\n",
              "      <td>-0.417333</td>\n",
              "      <td>-0.487392</td>\n",
              "      <td>-1.077801</td>\n",
              "      <td>-1.061331</td>\n",
              "      <td>-0.878018</td>\n",
              "      <td>0</td>\n",
              "    </tr>\n",
              "    <tr>\n",
              "      <th>999</th>\n",
              "      <td>-0.465733</td>\n",
              "      <td>1.067256</td>\n",
              "      <td>0.000013</td>\n",
              "      <td>-0.116531</td>\n",
              "      <td>-0.391152</td>\n",
              "      <td>2.172686</td>\n",
              "      <td>-1.600760</td>\n",
              "      <td>1.013593</td>\n",
              "      <td>-1.239219</td>\n",
              "      <td>-0.087110</td>\n",
              "      <td>1</td>\n",
              "    </tr>\n",
              "  </tbody>\n",
              "</table>\n",
              "<p>1000 rows × 11 columns</p>\n",
              "</div>\n",
              "      <button class=\"colab-df-convert\" onclick=\"convertToInteractive('df-77a633e8-c2b8-4186-970c-d10c73c693da')\"\n",
              "              title=\"Convert this dataframe to an interactive table.\"\n",
              "              style=\"display:none;\">\n",
              "        \n",
              "  <svg xmlns=\"http://www.w3.org/2000/svg\" height=\"24px\"viewBox=\"0 0 24 24\"\n",
              "       width=\"24px\">\n",
              "    <path d=\"M0 0h24v24H0V0z\" fill=\"none\"/>\n",
              "    <path d=\"M18.56 5.44l.94 2.06.94-2.06 2.06-.94-2.06-.94-.94-2.06-.94 2.06-2.06.94zm-11 1L8.5 8.5l.94-2.06 2.06-.94-2.06-.94L8.5 2.5l-.94 2.06-2.06.94zm10 10l.94 2.06.94-2.06 2.06-.94-2.06-.94-.94-2.06-.94 2.06-2.06.94z\"/><path d=\"M17.41 7.96l-1.37-1.37c-.4-.4-.92-.59-1.43-.59-.52 0-1.04.2-1.43.59L10.3 9.45l-7.72 7.72c-.78.78-.78 2.05 0 2.83L4 21.41c.39.39.9.59 1.41.59.51 0 1.02-.2 1.41-.59l7.78-7.78 2.81-2.81c.8-.78.8-2.07 0-2.86zM5.41 20L4 18.59l7.72-7.72 1.47 1.35L5.41 20z\"/>\n",
              "  </svg>\n",
              "      </button>\n",
              "      \n",
              "  <style>\n",
              "    .colab-df-container {\n",
              "      display:flex;\n",
              "      flex-wrap:wrap;\n",
              "      gap: 12px;\n",
              "    }\n",
              "\n",
              "    .colab-df-convert {\n",
              "      background-color: #E8F0FE;\n",
              "      border: none;\n",
              "      border-radius: 50%;\n",
              "      cursor: pointer;\n",
              "      display: none;\n",
              "      fill: #1967D2;\n",
              "      height: 32px;\n",
              "      padding: 0 0 0 0;\n",
              "      width: 32px;\n",
              "    }\n",
              "\n",
              "    .colab-df-convert:hover {\n",
              "      background-color: #E2EBFA;\n",
              "      box-shadow: 0px 1px 2px rgba(60, 64, 67, 0.3), 0px 1px 3px 1px rgba(60, 64, 67, 0.15);\n",
              "      fill: #174EA6;\n",
              "    }\n",
              "\n",
              "    [theme=dark] .colab-df-convert {\n",
              "      background-color: #3B4455;\n",
              "      fill: #D2E3FC;\n",
              "    }\n",
              "\n",
              "    [theme=dark] .colab-df-convert:hover {\n",
              "      background-color: #434B5C;\n",
              "      box-shadow: 0px 1px 3px 1px rgba(0, 0, 0, 0.15);\n",
              "      filter: drop-shadow(0px 1px 2px rgba(0, 0, 0, 0.3));\n",
              "      fill: #FFFFFF;\n",
              "    }\n",
              "  </style>\n",
              "\n",
              "      <script>\n",
              "        const buttonEl =\n",
              "          document.querySelector('#df-77a633e8-c2b8-4186-970c-d10c73c693da button.colab-df-convert');\n",
              "        buttonEl.style.display =\n",
              "          google.colab.kernel.accessAllowed ? 'block' : 'none';\n",
              "\n",
              "        async function convertToInteractive(key) {\n",
              "          const element = document.querySelector('#df-77a633e8-c2b8-4186-970c-d10c73c693da');\n",
              "          const dataTable =\n",
              "            await google.colab.kernel.invokeFunction('convertToInteractive',\n",
              "                                                     [key], {});\n",
              "          if (!dataTable) return;\n",
              "\n",
              "          const docLinkHtml = 'Like what you see? Visit the ' +\n",
              "            '<a target=\"_blank\" href=https://colab.research.google.com/notebooks/data_table.ipynb>data table notebook</a>'\n",
              "            + ' to learn more about interactive tables.';\n",
              "          element.innerHTML = '';\n",
              "          dataTable['output_type'] = 'display_data';\n",
              "          await google.colab.output.renderOutput(dataTable, element);\n",
              "          const docLink = document.createElement('div');\n",
              "          docLink.innerHTML = docLinkHtml;\n",
              "          element.appendChild(docLink);\n",
              "        }\n",
              "      </script>\n",
              "    </div>\n",
              "  </div>\n",
              "  "
            ]
          },
          "metadata": {},
          "execution_count": 29
        }
      ]
    },
    {
      "cell_type": "markdown",
      "source": [
        "#### LDA\n"
      ],
      "metadata": {
        "id": "nykxUEThPZjW"
      }
    },
    {
      "cell_type": "code",
      "source": [
        "lda_classifier = LinearDiscriminantAnalysis()\n",
        "lda_classifier.fit(X_train,y_train)\n",
        "lda_results = lda_classifier.predict(X_test)"
      ],
      "metadata": {
        "id": "zp3gZlqcPcgP"
      },
      "execution_count": 31,
      "outputs": []
    },
    {
      "cell_type": "markdown",
      "source": [
        "### Naive Bayes"
      ],
      "metadata": {
        "id": "aYpAD4UyP1pe"
      }
    },
    {
      "cell_type": "code",
      "source": [
        "bayes_classifier = GaussianNB()\n",
        "bayes_classifier.fit(X_train, y_train) \n",
        "bayes_results = bayes_classifier.predict(X_test) "
      ],
      "metadata": {
        "id": "IXytyZ_9l2hJ"
      },
      "execution_count": 39,
      "outputs": []
    },
    {
      "cell_type": "code",
      "source": [
        "evaluation(y_test,bayes_results)"
      ],
      "metadata": {
        "colab": {
          "base_uri": "https://localhost:8080/"
        },
        "id": "id_E9ZcSCE8K",
        "outputId": "fa18cbb7-2a2e-404e-9937-7e381bd2b027"
      },
      "execution_count": 44,
      "outputs": [
        {
          "output_type": "stream",
          "name": "stdout",
          "text": [
            "     0    1\n",
            "0  162   26\n",
            "1   18  194\n",
            "True positives:  194\n",
            "True negatives:  162\n",
            "False positives:  26\n",
            "False negative:  18\n",
            "Precision: 89.0 %\n",
            "Sensibilidad: 91.50943396226415 %\n",
            "Especificidad: 86.17021276595744 %\n"
          ]
        }
      ]
    },
    {
      "cell_type": "markdown",
      "source": [
        "### Support Vector Machine"
      ],
      "metadata": {
        "id": "v4Z4U44zQ2Zy"
      }
    },
    {
      "cell_type": "code",
      "source": [
        "svm_classifier = SVC()\n",
        "svm_classifier.fit(X_train,y_train)\n",
        "svm_results = svm_classifier.predict(X_test)"
      ],
      "metadata": {
        "id": "0d4yRdyeQ420"
      },
      "execution_count": null,
      "outputs": []
    },
    {
      "cell_type": "markdown",
      "source": [
        "### Random Forests:\n"
      ],
      "metadata": {
        "id": "7w7aePVtRpOY"
      }
    },
    {
      "cell_type": "code",
      "source": [
        "rfs_classifier = RandomForestClassifier(n_estimators = 800)\n",
        "rfs_classifier.fit(X_train,y_train)\n",
        "rfs_results = rfs_classifier.predict(X_test)"
      ],
      "metadata": {
        "colab": {
          "base_uri": "https://localhost:8080/",
          "height": 200
        },
        "id": "ps2aYlQxRrMF",
        "outputId": "87566abb-1fe7-4f35-9f91-5a1741922eb6"
      },
      "execution_count": 1,
      "outputs": [
        {
          "output_type": "error",
          "ename": "NameError",
          "evalue": "ignored",
          "traceback": [
            "\u001b[0;31m---------------------------------------------------------------------------\u001b[0m",
            "\u001b[0;31mNameError\u001b[0m                                 Traceback (most recent call last)",
            "\u001b[0;32m<ipython-input-1-a87f99ecfba2>\u001b[0m in \u001b[0;36m<module>\u001b[0;34m\u001b[0m\n\u001b[0;32m----> 1\u001b[0;31m \u001b[0mrfs_classifier\u001b[0m \u001b[0;34m=\u001b[0m \u001b[0mRandomForestClassifier\u001b[0m\u001b[0;34m(\u001b[0m\u001b[0mn_estimators\u001b[0m \u001b[0;34m=\u001b[0m \u001b[0;36m800\u001b[0m\u001b[0;34m)\u001b[0m\u001b[0;34m\u001b[0m\u001b[0;34m\u001b[0m\u001b[0m\n\u001b[0m\u001b[1;32m      2\u001b[0m \u001b[0mrfs_classifier\u001b[0m\u001b[0;34m.\u001b[0m\u001b[0mfit\u001b[0m\u001b[0;34m(\u001b[0m\u001b[0mX_train\u001b[0m\u001b[0;34m,\u001b[0m\u001b[0my_train\u001b[0m\u001b[0;34m)\u001b[0m\u001b[0;34m\u001b[0m\u001b[0;34m\u001b[0m\u001b[0m\n\u001b[1;32m      3\u001b[0m \u001b[0mrfs_results\u001b[0m \u001b[0;34m=\u001b[0m \u001b[0mrfs_classifier\u001b[0m\u001b[0;34m.\u001b[0m\u001b[0mpredict\u001b[0m\u001b[0;34m(\u001b[0m\u001b[0mX_test\u001b[0m\u001b[0;34m)\u001b[0m\u001b[0;34m\u001b[0m\u001b[0;34m\u001b[0m\u001b[0m\n",
            "\u001b[0;31mNameError\u001b[0m: name 'RandomForestClassifier' is not defined"
          ]
        }
      ]
    }
  ]
}